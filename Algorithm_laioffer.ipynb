{
 "cells": [
  {
   "cell_type": "markdown",
   "metadata": {},
   "source": [
    "### Sorting"
   ]
  },
  {
   "cell_type": "markdown",
   "metadata": {},
   "source": [
    "#### Selection Sort\n",
    "Time complexity O(N^2), Space complexity O(1)"
   ]
  },
  {
   "cell_type": "markdown",
   "metadata": {},
   "source": [
    "##### Basic"
   ]
  },
  {
   "cell_type": "code",
   "execution_count": 13,
   "metadata": {
    "ExecuteTime": {
     "end_time": "2020-03-17T01:02:55.458713Z",
     "start_time": "2020-03-17T01:02:55.453055Z"
    }
   },
   "outputs": [],
   "source": [
    "def selection_sort(input_array):\n",
    "    length = len(input_array)\n",
    "    for i in range(length-1):\n",
    "        # output loop \n",
    "        local_min = i \n",
    "        for j in range(i+1, length):\n",
    "            # find the minimum for current unsortted array\n",
    "            if input_array[j] < input_array[local_min]:\n",
    "                local_min = j\n",
    "        # swap the minimum with current left most element \n",
    "        input_array[i], input_array[local_min] = input_array[local_min], input_array[i]\n",
    "    return input_array"
   ]
  },
  {
   "cell_type": "code",
   "execution_count": 14,
   "metadata": {
    "ExecuteTime": {
     "end_time": "2020-03-17T01:02:56.007402Z",
     "start_time": "2020-03-17T01:02:56.001439Z"
    }
   },
   "outputs": [
    {
     "name": "stdout",
     "output_type": "stream",
     "text": [
      "[-3, -1, 4, 7, 8]\n"
     ]
    }
   ],
   "source": [
    "input_array = [-1, -3, 7, 4, 8]\n",
    "print(selection_sort(input_array))"
   ]
  },
  {
   "cell_type": "code",
   "execution_count": 15,
   "metadata": {
    "ExecuteTime": {
     "end_time": "2020-03-17T01:10:28.948680Z",
     "start_time": "2020-03-17T01:10:28.943829Z"
    }
   },
   "outputs": [],
   "source": [
    "def selection_sort_reverse(input_array):\n",
    "    length = len(input_array)\n",
    "    for i in range(length-1):\n",
    "        # output loop \n",
    "        local_max = i \n",
    "        for j in range(i+1, length):\n",
    "            # find the maximum for current unsortted array\n",
    "            if input_array[j] > input_array[local_max]:\n",
    "                local_max = j\n",
    "        # swap the maximum with current left most element \n",
    "        input_array[i], input_array[local_max] = input_array[local_max], input_array[i]\n",
    "    return input_array"
   ]
  },
  {
   "cell_type": "code",
   "execution_count": 16,
   "metadata": {
    "ExecuteTime": {
     "end_time": "2020-03-17T01:10:39.648965Z",
     "start_time": "2020-03-17T01:10:39.639387Z"
    }
   },
   "outputs": [
    {
     "name": "stdout",
     "output_type": "stream",
     "text": [
      "[8, 7, 4, -1, -3]\n"
     ]
    }
   ],
   "source": [
    "input_array = [-1, -3, 7, 4, 8]\n",
    "print(selection_sort_reverse(input_array))"
   ]
  },
  {
   "cell_type": "markdown",
   "metadata": {},
   "source": [
    "##### Other similar questions"
   ]
  },
  {
   "cell_type": "markdown",
   "metadata": {},
   "source": [
    "Given an array stored in Stack1, how to sort the numbers by using additional two stakcs?"
   ]
  },
  {
   "cell_type": "markdown",
   "metadata": {},
   "source": [
    "Stack1 || 1 3 2 4   <br>\n",
    "Stack2 ||           <br>\n",
    "Stack3 ||           <br>"
   ]
  },
  {
   "cell_type": "markdown",
   "metadata": {},
   "source": [
    "By using first two Stacks, find the global min for each iteration of array, and put it into Stack3"
   ]
  },
  {
   "cell_type": "markdown",
   "metadata": {},
   "source": [
    "#### Merge Sort\n",
    "Time complexity O(NlogN), Space complexity O(N)"
   ]
  },
  {
   "cell_type": "markdown",
   "metadata": {},
   "source": [
    "##### Basic"
   ]
  },
  {
   "cell_type": "code",
   "execution_count": 1,
   "metadata": {
    "ExecuteTime": {
     "end_time": "2020-03-26T17:41:45.506370Z",
     "start_time": "2020-03-26T17:41:45.498992Z"
    }
   },
   "outputs": [],
   "source": [
    "def merge(left_array, right_array):\n",
    "    left_array.append(float('inf'))\n",
    "    right_array.append(float('inf'))\n",
    "    left_idx = 0\n",
    "    right_idx = 0 \n",
    "    new_array = []\n",
    "    for i in range(len(left_array) + len(right_array) - 2):\n",
    "        if left_array[left_idx] < right_array[right_idx]:\n",
    "            new_array.append(left_array[left_idx])\n",
    "            left_idx += 1\n",
    "        else:\n",
    "            new_array.append(right_array[right_idx])\n",
    "            right_idx += 1\n",
    "    return new_array\n",
    "            \n",
    "    \n",
    "def merge_sort(input_array, left, right):\n",
    "    # base case \n",
    "    if left == right:\n",
    "        return input_array[left:left+1]\n",
    "    # find mid point: avoid overflow\n",
    "    mid = left + (right - left) // 2\n",
    "    left_array = merge_sort(input_array, left, mid)\n",
    "    # break point --> will finish left until the end, and then go back to run the next line\n",
    "    # sort right \n",
    "    right_array = merge_sort(input_array, mid+1, right)\n",
    "    # merge sort left and sort right\n",
    "    new_array = merge(left_array, right_array)\n",
    "    return new_array"
   ]
  },
  {
   "cell_type": "code",
   "execution_count": 2,
   "metadata": {
    "ExecuteTime": {
     "end_time": "2020-03-26T17:41:46.067971Z",
     "start_time": "2020-03-26T17:41:46.061550Z"
    }
   },
   "outputs": [
    {
     "name": "stdout",
     "output_type": "stream",
     "text": [
      "[-3, -1, 4, 7, 8]\n"
     ]
    }
   ],
   "source": [
    "input_array = [-1, -3, 7, 4, 8]\n",
    "print(merge_sort(input_array, 0, 4))"
   ]
  },
  {
   "cell_type": "markdown",
   "metadata": {},
   "source": [
    "##### Other similar questions"
   ]
  },
  {
   "cell_type": "markdown",
   "metadata": {},
   "source": [
    "**1. Can I use merge sort to sort a linked list? What's the time complexity**"
   ]
  },
  {
   "cell_type": "markdown",
   "metadata": {},
   "source": [
    "Yes, the time complexity doesn't change, still O(NlogN)<br>\n",
    "For the dividing part, each level become O(N) since to find the mid point of linked list, you have to go through the whole linked list. The total time complexity is O(NlogN)<br>\n",
    "For the merging part, each level is same as in array since it's just combining two arrays. The total time complexity is O(NlogN)<br>"
   ]
  },
  {
   "cell_type": "markdown",
   "metadata": {},
   "source": [
    "**2. ABCD1234 --> A1B2C3D4**"
   ]
  },
  {
   "cell_type": "markdown",
   "metadata": {},
   "source": [
    "AB | CD | 12 | 34  -->  AB | DC | 21 | 34 --> AB | 12 | CD | 34 #reverse the middle chunk <br> \n",
    "A | B | 1 | 2 --> A | 1 | B | 2 <br>\n",
    "Node: guarantee the chunck size of 1 equals to 3"
   ]
  },
  {
   "cell_type": "markdown",
   "metadata": {},
   "source": [
    "#### Quick Sort"
   ]
  },
  {
   "cell_type": "markdown",
   "metadata": {},
   "source": [
    "##### Basic"
   ]
  },
  {
   "cell_type": "code",
   "execution_count": 69,
   "metadata": {
    "ExecuteTime": {
     "end_time": "2020-03-22T20:38:13.199830Z",
     "start_time": "2020-03-22T20:38:13.191433Z"
    }
   },
   "outputs": [],
   "source": [
    "def quick_sort(input_array, start, end):\n",
    "    if start >= end:\n",
    "        return input_array\n",
    "    \n",
    "    left = start\n",
    "    # randomly assign pivot as the rightmost element\n",
    "    pivot = input_array[end]\n",
    "    right = end - 1\n",
    "    \n",
    "    # move pointers untill they crosses \n",
    "    while left <= right:\n",
    "        # put all elements less than pivot into the left of the left pointer\n",
    "        while (left <= right) and (input_array[left] < pivot):\n",
    "            left += 1\n",
    "        # put all elements larger than pivot into the right of the \n",
    "        while (left <= right) and (input_array[right] > pivot):\n",
    "            right -= 1\n",
    "        if left <= right:\n",
    "            # swap the value \n",
    "            input_array[left], input_array[right] = input_array[right], input_array[left]\n",
    "            left += 1\n",
    "            right -= 1\n",
    "    # swap the pivot value\n",
    "    input_array[left], input_array[end] = input_array[end], input_array[left]\n",
    "    \n",
    "    quick_sort(input_array, start, right)\n",
    "    quick_sort(input_array, left + 1, end)\n",
    "    \n",
    "    return input_array  "
   ]
  },
  {
   "cell_type": "code",
   "execution_count": 88,
   "metadata": {
    "ExecuteTime": {
     "end_time": "2020-03-17T18:53:05.176711Z",
     "start_time": "2020-03-17T18:53:05.169716Z"
    }
   },
   "outputs": [
    {
     "name": "stdout",
     "output_type": "stream",
     "text": [
      "[-3, -1, 4, 7, 8]\n"
     ]
    }
   ],
   "source": [
    "input_array = [-1, -3, 7, 4, 8]\n",
    "print(quick_sort(input_array, 0, 4))"
   ]
  },
  {
   "cell_type": "markdown",
   "metadata": {},
   "source": [
    "##### Other similar questions"
   ]
  },
  {
   "cell_type": "markdown",
   "metadata": {},
   "source": [
    "**Rainbow Sort** (multiple pointer for different regions)<br>\n",
    "k colors will have k board, and time complexity is O(N*k), since in worst case, move one board all  other k-1 board needed to be moved."
   ]
  },
  {
   "cell_type": "markdown",
   "metadata": {},
   "source": [
    "**LeetCode 75: Sort Colors**<br>\n",
    "Given an array with n objects colored red, white or blue, sort them in-place so that objects of the same color are adjacent, with the colors in the order red, white and blue. Here, we will use the integers 0, 1, and 2 to represent the color red, white, and blue respectively.<br>\n",
    "Example:<br>\n",
    "Input: [2,0,2,1,1,0]<br>\n",
    "Output:[0,0,1,1,2,2]<br>\n",
    "Thought: we need to have three boards: i, j, k. All 0 should be left of i; all 2 should be right of j; k should be right of all other elements"
   ]
  },
  {
   "cell_type": "code",
   "execution_count": 67,
   "metadata": {
    "ExecuteTime": {
     "end_time": "2020-03-22T20:37:20.024897Z",
     "start_time": "2020-03-22T20:37:20.018353Z"
    }
   },
   "outputs": [],
   "source": [
    "def sortColors(nums):\n",
    "    # three colors\n",
    "    i = 0\n",
    "    k = 0 \n",
    "    j = len(nums) - 1\n",
    "        \n",
    "    while k <= j:\n",
    "        if nums[k] == 0:\n",
    "            nums[k], nums[i] = nums[i], nums[k]\n",
    "            i += 1 # this element should be 0, so move i one step right\n",
    "            k += 1 # the changed element can only be 0 or 1, so move k one step right\n",
    "        elif nums[k] == 2:\n",
    "            nums[k], nums[j] = nums[j], nums[k] \n",
    "            j -= 1 # this elemnt should be 2, so move j one step left, but we don't know change element is 0, 1 or 2\n",
    "        else:\n",
    "            k += 1\n",
    "    return nums"
   ]
  },
  {
   "cell_type": "markdown",
   "metadata": {},
   "source": [
    "### Recursion"
   ]
  },
  {
   "cell_type": "markdown",
   "metadata": {},
   "source": [
    "Only recursion uses callstack, iterative one doesn't need"
   ]
  },
  {
   "cell_type": "markdown",
   "metadata": {},
   "source": [
    "#### Fibonacci sequence"
   ]
  },
  {
   "cell_type": "markdown",
   "metadata": {},
   "source": [
    "Base case: F(0) = 0; F(1) = 1; <br>\n",
    "Recursive rule: F(n) = F(n-1) + F(n-2)\n"
   ]
  },
  {
   "cell_type": "markdown",
   "metadata": {},
   "source": [
    "Time complexity: (recursive tree with N level: 1 + 2 + 4 + ... + 2^(N-1) ) O(2^N)<br>\n",
    "Space complexity: (DFS with N level, each level O(1)) O(N) "
   ]
  },
  {
   "cell_type": "code",
   "execution_count": 92,
   "metadata": {
    "ExecuteTime": {
     "end_time": "2020-03-17T21:30:38.394055Z",
     "start_time": "2020-03-17T21:30:38.347802Z"
    }
   },
   "outputs": [],
   "source": [
    "def fibonacci_sequence(input_number):\n",
    "    # base case\n",
    "    if input_number == 0:\n",
    "        return 0 \n",
    "    elif input_number == 1:\n",
    "        return 1\n",
    "    # recursive rule: make the global size smaller\n",
    "    return fibonacci_sequence(input_number - 1) + fibonacci_sequence(input_number - 2)"
   ]
  },
  {
   "cell_type": "code",
   "execution_count": 93,
   "metadata": {
    "ExecuteTime": {
     "end_time": "2020-03-17T21:30:38.898528Z",
     "start_time": "2020-03-17T21:30:38.879396Z"
    }
   },
   "outputs": [
    {
     "name": "stdout",
     "output_type": "stream",
     "text": [
      "0\n",
      "1\n",
      "1\n",
      "2\n",
      "3\n",
      "5\n",
      "8\n",
      "13\n",
      "21\n",
      "34\n"
     ]
    }
   ],
   "source": [
    "for i in range(10):\n",
    "    print(fibonacci_sequence(i))"
   ]
  },
  {
   "cell_type": "markdown",
   "metadata": {},
   "source": [
    "#### How to calculate a^b"
   ]
  },
  {
   "cell_type": "markdown",
   "metadata": {},
   "source": [
    "##### Basic \n",
    "Time complexity O(b), Space complexity O(b)"
   ]
  },
  {
   "cell_type": "code",
   "execution_count": 100,
   "metadata": {
    "ExecuteTime": {
     "end_time": "2020-03-17T23:33:32.279784Z",
     "start_time": "2020-03-17T23:33:32.258694Z"
    }
   },
   "outputs": [],
   "source": [
    "def a_b(a, b):\n",
    "    # base case\n",
    "    if b == 0:\n",
    "        return 1\n",
    "    return a*a_b(a, b-1)"
   ]
  },
  {
   "cell_type": "code",
   "execution_count": 101,
   "metadata": {
    "ExecuteTime": {
     "end_time": "2020-03-17T23:33:32.685080Z",
     "start_time": "2020-03-17T23:33:32.666282Z"
    }
   },
   "outputs": [
    {
     "data": {
      "text/plain": [
       "8"
      ]
     },
     "execution_count": 101,
     "metadata": {},
     "output_type": "execute_result"
    }
   ],
   "source": [
    "a_b(2,3)"
   ]
  },
  {
   "cell_type": "markdown",
   "metadata": {},
   "source": [
    "##### More efficient"
   ]
  },
  {
   "cell_type": "markdown",
   "metadata": {
    "ExecuteTime": {
     "end_time": "2020-03-17T23:44:44.017077Z",
     "start_time": "2020-03-17T23:44:44.007344Z"
    }
   },
   "source": [
    "Time complexity: O(logb), Space complexity: O(logb)"
   ]
  },
  {
   "cell_type": "code",
   "execution_count": 113,
   "metadata": {
    "ExecuteTime": {
     "end_time": "2020-03-17T23:43:00.365146Z",
     "start_time": "2020-03-17T23:43:00.359763Z"
    }
   },
   "outputs": [],
   "source": [
    "def a_b(a, b):\n",
    "    # base case\n",
    "    if b == 0:\n",
    "        return 1\n",
    "    if b % 2 == 0:\n",
    "        half_result = a_b(a, b/2)\n",
    "        return half_result * half_result\n",
    "    else:\n",
    "        half_result = a_b(a, b//2)\n",
    "        return half_result * half_result * a"
   ]
  },
  {
   "cell_type": "code",
   "execution_count": 115,
   "metadata": {
    "ExecuteTime": {
     "end_time": "2020-03-17T23:43:04.088004Z",
     "start_time": "2020-03-17T23:43:04.066545Z"
    }
   },
   "outputs": [
    {
     "data": {
      "text/plain": [
       "8"
      ]
     },
     "execution_count": 115,
     "metadata": {},
     "output_type": "execute_result"
    }
   ],
   "source": [
    "a_b(2,3)"
   ]
  },
  {
   "cell_type": "markdown",
   "metadata": {},
   "source": [
    "#### Binary Search"
   ]
  },
  {
   "cell_type": "markdown",
   "metadata": {},
   "source": [
    "#####  Classical Version"
   ]
  },
  {
   "cell_type": "code",
   "execution_count": 185,
   "metadata": {
    "ExecuteTime": {
     "end_time": "2020-03-18T00:25:58.608672Z",
     "start_time": "2020-03-18T00:25:58.599789Z"
    }
   },
   "outputs": [],
   "source": [
    "def binary_search_iterative(sorted_array, k):\n",
    "    if len(sorted_array) == 0:\n",
    "        return False\n",
    "    left = 0\n",
    "    right = len(sorted_array) - 1\n",
    "    while left <= right:\n",
    "        mid = left + (right - left) // 2\n",
    "        if sorted_array[mid] == k:\n",
    "            return mid\n",
    "        elif sorted_array[mid] < k:\n",
    "            left = mid + 1\n",
    "        else:\n",
    "            right = mid - 1\n",
    "    return False"
   ]
  },
  {
   "cell_type": "code",
   "execution_count": 188,
   "metadata": {
    "ExecuteTime": {
     "end_time": "2020-03-18T00:26:21.324572Z",
     "start_time": "2020-03-18T00:26:21.317583Z"
    }
   },
   "outputs": [],
   "source": [
    "def binary_search_recursive(sorted_array, left, right, k):\n",
    "    if left == right:\n",
    "        return False\n",
    "    mid = left + (right - left) // 2\n",
    "    if sorted_array[mid] == k:\n",
    "        return mid\n",
    "    elif sorted_array[mid] < k:\n",
    "        return binary_search_recursive(sorted_array, mid + 1, right, k)\n",
    "    else:\n",
    "        return binary_search_recursive(sorted_array, left, mid,  k)"
   ]
  },
  {
   "cell_type": "code",
   "execution_count": 193,
   "metadata": {
    "ExecuteTime": {
     "end_time": "2020-03-18T00:26:46.553763Z",
     "start_time": "2020-03-18T00:26:46.545991Z"
    }
   },
   "outputs": [
    {
     "data": {
      "text/plain": [
       "4"
      ]
     },
     "execution_count": 193,
     "metadata": {},
     "output_type": "execute_result"
    }
   ],
   "source": [
    "list1 = [1,2,3,4, 5]\n",
    "k = 5\n",
    "left = 0 \n",
    "right = 5\n",
    "binary_search_recursive(list1, left, right, k)"
   ]
  },
  {
   "cell_type": "code",
   "execution_count": 194,
   "metadata": {
    "ExecuteTime": {
     "end_time": "2020-03-18T00:26:48.610422Z",
     "start_time": "2020-03-18T00:26:48.603360Z"
    }
   },
   "outputs": [
    {
     "data": {
      "text/plain": [
       "4"
      ]
     },
     "execution_count": 194,
     "metadata": {},
     "output_type": "execute_result"
    }
   ],
   "source": [
    "list1 = [1,2,3,4, 5]\n",
    "k = 5\n",
    "binary_search_iterative(list1, k)"
   ]
  },
  {
   "cell_type": "markdown",
   "metadata": {},
   "source": [
    "##### 2D Matrix \n",
    "Sorted on each row, **first element of each row is larger or equal to the last element of previous row**"
   ]
  },
  {
   "cell_type": "markdown",
   "metadata": {},
   "source": [
    "**Same as 1D, just need to map the mid index back to matrix --> mid_row = mid // col; mid_col = mid % col**"
   ]
  },
  {
   "cell_type": "code",
   "execution_count": 205,
   "metadata": {
    "ExecuteTime": {
     "end_time": "2020-03-18T00:47:45.797022Z",
     "start_time": "2020-03-18T00:47:45.782861Z"
    }
   },
   "outputs": [],
   "source": [
    "def find_value_2D(matrix, k):\n",
    "    if len(matrix) == 0 or len(matrix[0]) == 0:\n",
    "        return False\n",
    "    row = len(matrix)\n",
    "    col = len(matrix[0])\n",
    "    left = 0\n",
    "    right = row * col - 1\n",
    "    while left <= right:\n",
    "        mid = left + (right - left) // 2\n",
    "        # 1D index map to 2D index\n",
    "        mid_row = mid // col\n",
    "        mid_col = mid % col\n",
    "        if matrix[mid_row][mid_col] == k:\n",
    "            return (mid_row, mid_col)\n",
    "        elif matrix[mid_row][mid_col] < k:\n",
    "            left = mid + 1\n",
    "        else:\n",
    "            right = mid - 1\n",
    "    return False"
   ]
  },
  {
   "cell_type": "code",
   "execution_count": 206,
   "metadata": {
    "ExecuteTime": {
     "end_time": "2020-03-18T00:47:46.254915Z",
     "start_time": "2020-03-18T00:47:46.245656Z"
    }
   },
   "outputs": [
    {
     "data": {
      "text/plain": [
       "(0, 0)"
      ]
     },
     "execution_count": 206,
     "metadata": {},
     "output_type": "execute_result"
    }
   ],
   "source": [
    "matrix = [[1,2,3],[4,5,6],[7,8,9]]\n",
    "k = 1\n",
    "find_value_2D_iterative(matrix, k)"
   ]
  },
  {
   "cell_type": "markdown",
   "metadata": {},
   "source": [
    "##### Variant 1.1 \n",
    "How to find an element in the array that is closest to the target number?"
   ]
  },
  {
   "cell_type": "markdown",
   "metadata": {},
   "source": [
    "**Note: just find L and R are close to each other, only want to find the close range **"
   ]
  },
  {
   "cell_type": "code",
   "execution_count": 221,
   "metadata": {
    "ExecuteTime": {
     "end_time": "2020-03-18T01:30:32.973594Z",
     "start_time": "2020-03-18T01:30:32.968357Z"
    }
   },
   "outputs": [],
   "source": [
    "def find_closest(input_array, k):\n",
    "    if len(input_array) == 0:\n",
    "        return False\n",
    "    left = 0 \n",
    "    right = len(input_array) - 1\n",
    "    # find the closet range, which is left = right - 1 or left = right\n",
    "    while left < right - 1:\n",
    "        mid = left + (right - left) // 2\n",
    "        if input_array[mid] == k:\n",
    "            return mid\n",
    "        elif input_array[mid] < k:\n",
    "            # use mid to make sure we keep the closest elements\n",
    "            left = mid\n",
    "        else:\n",
    "            right = mid\n",
    "    # check range boundary \n",
    "    if abs(input_array[left] - k) <= abs(input_array[right]-k):\n",
    "        return left\n",
    "    else:\n",
    "        return right\n",
    "        "
   ]
  },
  {
   "cell_type": "code",
   "execution_count": 222,
   "metadata": {
    "ExecuteTime": {
     "end_time": "2020-03-18T01:30:33.972606Z",
     "start_time": "2020-03-18T01:30:33.964140Z"
    }
   },
   "outputs": [
    {
     "data": {
      "text/plain": [
       "4"
      ]
     },
     "execution_count": 222,
     "metadata": {},
     "output_type": "execute_result"
    }
   ],
   "source": [
    "list1 = [1,2,3,5,8]\n",
    "k = 7\n",
    "find_closest(list1, k)"
   ]
  },
  {
   "cell_type": "markdown",
   "metadata": {},
   "source": [
    "##### Variant 1.2"
   ]
  },
  {
   "cell_type": "markdown",
   "metadata": {
    "ExecuteTime": {
     "end_time": "2020-03-18T01:24:39.555751Z",
     "start_time": "2020-03-18T01:24:39.522769Z"
    }
   },
   "source": [
    "Return the first index of occurence number "
   ]
  },
  {
   "cell_type": "code",
   "execution_count": 223,
   "metadata": {
    "ExecuteTime": {
     "end_time": "2020-03-18T01:30:37.134584Z",
     "start_time": "2020-03-18T01:30:37.129497Z"
    }
   },
   "outputs": [],
   "source": [
    "def find_first_index(input_array, k):\n",
    "    if len(input_array) == 0:\n",
    "        return False\n",
    "    left = 0 \n",
    "    right = len(input_array) - 1\n",
    "    # find the range \n",
    "    while left < right - 1:\n",
    "        mid = left + (right - left) // 2\n",
    "        if input_array[mid] == k:\n",
    "            # if find mid, should go to left \n",
    "            right = mid\n",
    "        elif input_array[mid] < k:\n",
    "            left = mid + 1\n",
    "        else:\n",
    "            right = mid - 1\n",
    "    if input_array[left] == k:\n",
    "        return left\n",
    "    if input_array[right] == k:\n",
    "        return right\n",
    "    return False"
   ]
  },
  {
   "cell_type": "code",
   "execution_count": 225,
   "metadata": {
    "ExecuteTime": {
     "end_time": "2020-03-18T01:30:57.397210Z",
     "start_time": "2020-03-18T01:30:57.389742Z"
    }
   },
   "outputs": [
    {
     "data": {
      "text/plain": [
       "3"
      ]
     },
     "execution_count": 225,
     "metadata": {},
     "output_type": "execute_result"
    }
   ],
   "source": [
    "list1 = [1,2,3,5,5,5,8]\n",
    "k = 5\n",
    "find_first_index(list1, k)"
   ]
  },
  {
   "cell_type": "markdown",
   "metadata": {},
   "source": [
    "##### Variant 1.3"
   ]
  },
  {
   "cell_type": "markdown",
   "metadata": {
    "ExecuteTime": {
     "end_time": "2020-03-18T01:27:21.033134Z",
     "start_time": "2020-03-18T01:27:21.026708Z"
    }
   },
   "source": [
    "Return the last index of occurance number"
   ]
  },
  {
   "cell_type": "code",
   "execution_count": 228,
   "metadata": {
    "ExecuteTime": {
     "end_time": "2020-03-18T01:32:24.281070Z",
     "start_time": "2020-03-18T01:32:24.274403Z"
    }
   },
   "outputs": [],
   "source": [
    "def find_last_index(input_array, k):\n",
    "    if len(input_array) == 0:\n",
    "        return False\n",
    "    left = 0 \n",
    "    right = len(input_array) - 1\n",
    "    while left < right - 1:\n",
    "        mid = left + (right - left) // 2\n",
    "        if input_array[mid] == k:\n",
    "            # if find mid, should go to right\n",
    "            left = mid\n",
    "        elif input_array[mid] < k:\n",
    "            left = mid + 1\n",
    "        else:\n",
    "            right = mid - 1\n",
    "    if input_array[right] == k:\n",
    "        return right\n",
    "    if input_array[left] == k:\n",
    "        return left\n",
    "    return False"
   ]
  },
  {
   "cell_type": "code",
   "execution_count": 227,
   "metadata": {
    "ExecuteTime": {
     "end_time": "2020-03-18T01:31:07.349823Z",
     "start_time": "2020-03-18T01:31:07.338539Z"
    }
   },
   "outputs": [
    {
     "data": {
      "text/plain": [
       "5"
      ]
     },
     "execution_count": 227,
     "metadata": {},
     "output_type": "execute_result"
    }
   ],
   "source": [
    "list1 = [1,2,3,5,5,5,8]\n",
    "k = 5\n",
    "find_last_index(list1, k)"
   ]
  },
  {
   "cell_type": "markdown",
   "metadata": {},
   "source": [
    "##### Variant 1.4"
   ]
  },
  {
   "cell_type": "markdown",
   "metadata": {
    "ExecuteTime": {
     "end_time": "2020-03-18T01:33:32.904490Z",
     "start_time": "2020-03-18T01:33:32.891281Z"
    }
   },
   "source": [
    "How to find k elements in the array that is closest to the target number?"
   ]
  },
  {
   "cell_type": "markdown",
   "metadata": {},
   "source": [
    "Step 1: binary search to find the L and R that are adjacent each other<br>\n",
    "Step 2: from inner side to outer side, compare elements in two sides, move the L or R with smaller number <br>\n",
    "Time complexity: O(logN + K)"
   ]
  },
  {
   "cell_type": "markdown",
   "metadata": {},
   "source": [
    "##### Binary Searc Variant 2.0"
   ]
  },
  {
   "cell_type": "markdown",
   "metadata": {},
   "source": [
    "Given a sorted dictionary with unknown size, how to determine whether the word is in this dictionary or not"
   ]
  },
  {
   "cell_type": "markdown",
   "metadata": {},
   "source": [
    "**Solution 1:**<br>\n",
    "Step1: do while loop to keep jumping 2^i steps, until we jump out of the boundary --> get the size of dictionary<br>\n",
    "Step2: run binary search [0, 2^r] to find the solution.<br>\n",
    "Time complexity --> log(N)\n",
    "Optimize previous step: target should between 2^r-1 to 2^r\n"
   ]
  },
  {
   "cell_type": "markdown",
   "metadata": {},
   "source": [
    "**Solution Follow Up:**<br>\n",
    "Jump by 2 times each time or jump 10 times each time?<br>\n",
    "Two times - Ten times = log_2(n) + log_2(2n) - (log_10(n) + log_2(10n)) <br>\n",
    "When N becomes larger --> Ten times < Two times, we shoold choose ten times\n"
   ]
  },
  {
   "cell_type": "markdown",
   "metadata": {},
   "source": [
    "### Queue, Stack && LinkedList"
   ]
  },
  {
   "cell_type": "markdown",
   "metadata": {},
   "source": [
    "Logistic definiation, can be implemented using array, linked list"
   ]
  },
  {
   "cell_type": "markdown",
   "metadata": {},
   "source": [
    "#### Queue: first in first out & Stack: Last in first out"
   ]
  },
  {
   "cell_type": "markdown",
   "metadata": {},
   "source": [
    "Classic Question for Queue: \n",
    "    1. Tree printout by level\n",
    "    2. Sliding window problems\n",
    "Classic Question for Stack:\n",
    "    1. Insertion order"
   ]
  },
  {
   "cell_type": "markdown",
   "metadata": {},
   "source": [
    "##### Question 1: \n",
    "How could we implemented a queue by using two stacks?"
   ]
  },
  {
   "cell_type": "markdown",
   "metadata": {},
   "source": [
    "**Solution1:<br>**\n",
    "Stack1: To buffer all new elements. --> push(x) goes to Stack1<br>\n",
    "Stack2: To pop out the 1st elemnet. --> <br>\n",
    "Case2.1: If stack2 is empty, then we move all elements from stack1 to stack2 one by one. Then pop the top elemnet from stack2. \n",
    "Case2.2: If stack2 is not empty, then we call stack2.pop()\n",
    "Time complexity: Push() --> O(1), Amotized time complexity Pop() --> O(1)\n",
    "Exp:<br>\n",
    "Five elements (1 2 3 4 5)<br>\n",
    "1st time call pop() n(pop from stack1) + n(push to stack2) + 1(pop from stack1) = 2n + 1<br>\n",
    "2nd time call pop() time = 1<br>\n",
    "3rd time call pop() time = 1<br>\n",
    "..<br>\n",
    "nth call      pop() time = 1<br>\n",
    "Amortized time complexity = (2n + 1 + (n-1) * 1) /n = 3n/n = 3 --> O(1)<br>\n",
    "**Amortized time complexity --> only used in situation that only several times are expensive, but others are cheap, only common in using stacks to express queue**"
   ]
  },
  {
   "cell_type": "markdown",
   "metadata": {},
   "source": [
    "##### Question 2: \n",
    "How to implement the min() function when using stack with time complexity O(1):"
   ]
  },
  {
   "cell_type": "markdown",
   "metadata": {},
   "source": [
    "**Solution1:<br>**\n",
    "Using two stacks, when add() into Stack1, get the min value by compare with current min and add() into Stack2<br>\n",
    "Pop() from Stack2 always the current Min()<br>\n",
    "Stack1|| 1 3 2<br>\n",
    "Stack2|| 1 1 1<br>\n",
    "Keep the add() and remove() in sync between Stack1 and Stack2"
   ]
  },
  {
   "cell_type": "markdown",
   "metadata": {},
   "source": [
    "**Follow up question:**\n",
    "How to optimize the space usage of stack2 assumpting there are a lot of duplicate elements in Stack1?"
   ]
  },
  {
   "cell_type": "markdown",
   "metadata": {},
   "source": [
    "Need to remember the size of Stack1 when the min value add into the Stack2<br>\n",
    "Stack1 || 2 2 2 2 1 1 1 <br>\n",
    "Stack2|| <2, stack1.size = 1>, <1, stack1.size() = 5><br>"
   ]
  },
  {
   "cell_type": "markdown",
   "metadata": {},
   "source": [
    "##### Question 3:\n",
    "How to sort numbers with three(or two) stacks?"
   ]
  },
  {
   "cell_type": "markdown",
   "metadata": {},
   "source": [
    "Stack1|| 1 3 2 4 <br>\n",
    "Stack2||<br>\n",
    "--><br>\n",
    "Stack1 ||<br>\n",
    "Stack2 || 1 3 2 4 global_min = 1<br>\n",
    "--> <br>\n",
    "Stack1 || 4 2 3 <br>\n",
    "Stack2 || 1<br>\n",
    "Every time, when we move elements from stack2 to stack1, we need to stop somewhere <br>\n",
    "**Method1:** while (stack2.size() > stack2.initial_size_before_this_iteration)<br>\n",
    "**Method2:** while (stack2.top() >= global_min()) <br>\n",
    "{keep popping ... back to s1}\n"
   ]
  },
  {
   "cell_type": "markdown",
   "metadata": {},
   "source": [
    "**Follow up question:** What it there are duplicate element?<br>\n",
    "Add another counter to count the number<br>\n",
    "Stack1|| 1 1 3 <br>\n",
    "Stack2||<br>\n",
    "global_min = 1, counter = 2"
   ]
  },
  {
   "cell_type": "markdown",
   "metadata": {},
   "source": [
    "##### Question 4:\n",
    "How to use multiple stacks to implement a de-queue(deque)? Preferably O(1) amortized time for all operations"
   ]
  },
  {
   "cell_type": "markdown",
   "metadata": {},
   "source": [
    "**deque:<br>**\n",
    "(head L) 1 2 3 4 5 6 7 8 9 (head R): both can out, both can in\n",
    " "
   ]
  },
  {
   "cell_type": "markdown",
   "metadata": {},
   "source": [
    "**Method1**: Two stacks ( 1 2 3 4 5||Stack1 Stack2|| 6 7 8 9 ), works but have very high time complexity. Amortized time = O(N). Problem is after remove all elments of stack2, if you want to remove 5, you have to move all elements from stack1 to stack2, and if you want to remove 1, you have to move all elements from stack2 to stack1, which is very time comsuming<br>\n",
    "**Method2**: with three stacks, always keep two stacks as head and tail\n",
    "1 2 3 4 5 || Stack1 Stack2 || <br>\n",
    "--><br>\n",
    "4 5 || Stack1 Stack2 || <br>\n",
    "Stack3|| 1 2 3 <br>\n",
    "--> <br>\n",
    "|| Stack1 Stack2 || 4 5 <br>\n",
    "Stack3|| 1 2 3 <br>\n",
    "--> <br>\n",
    "1 2 3 || Stac1 Stack2 || 4 5 <br>\n",
    "Stack3|| <br>\n",
    "Amortize time = O (0.5N + 0.5N + 0.5N + 0.5N) / N = O(2) = O(1)"
   ]
  },
  {
   "cell_type": "markdown",
   "metadata": {},
   "source": [
    "##### Discussion"
   ]
  },
  {
   "cell_type": "markdown",
   "metadata": {},
   "source": [
    "When we need to think about stack?<br>\n",
    "Answer: From left to right linear scan an array or string, if we need to look back the latest element in the left side of current element, we need stack:\n",
    "1. Find a largest square in histogram.\n",
    "2. Reverse polish notation: (infix) a * (b+c) --> abc+* (post-fix) (Shunting Yard algorithm)\n",
    "3. Repeatedly deduplication of string: cabba --> caa -->c"
   ]
  },
  {
   "cell_type": "markdown",
   "metadata": {},
   "source": [
    "Classic Questions: Insertion order"
   ]
  },
  {
   "cell_type": "markdown",
   "metadata": {},
   "source": [
    "#### Linked List"
   ]
  },
  {
   "cell_type": "markdown",
   "metadata": {},
   "source": [
    "Logic definition: Node1 --> Node2 --> Node3 --> Node4 --> Node5 --> NULL<br>\n",
    "They are not physically connected, but next is the physical location information of next node"
   ]
  },
  {
   "cell_type": "code",
   "execution_count": 5,
   "metadata": {
    "ExecuteTime": {
     "end_time": "2020-03-24T02:16:54.134775Z",
     "start_time": "2020-03-24T02:16:54.129814Z"
    }
   },
   "outputs": [],
   "source": [
    "class ListNode: # physical address for saving current list node is 0XFFFF0001 after initialization\n",
    "    def __init__(self):\n",
    "        self.value = 1\n",
    "        self.name = 'Node1'\n",
    "        self.next = 0XFFFF9999  #physical address for saving the next node"
   ]
  },
  {
   "cell_type": "markdown",
   "metadata": {},
   "source": [
    "##### Key points"
   ]
  },
  {
   "cell_type": "markdown",
   "metadata": {},
   "source": [
    "1. When you want to de-reference (read the value from node, p.value) a listNode, make sure it is not a NULL pointer\n",
    "2. Never ever lost the control of the head pointer of the LinkedList (before you modify your linked list you need to save the information first)"
   ]
  },
  {
   "cell_type": "markdown",
   "metadata": {},
   "source": [
    "##### Questions"
   ]
  },
  {
   "cell_type": "markdown",
   "metadata": {},
   "source": [
    "How to reverse a lineked list? (No.1 interview question on linkedlist)"
   ]
  },
  {
   "cell_type": "code",
   "execution_count": 7,
   "metadata": {
    "ExecuteTime": {
     "end_time": "2020-03-24T03:00:46.478343Z",
     "start_time": "2020-03-24T03:00:46.455922Z"
    }
   },
   "outputs": [],
   "source": [
    "def reverse_Linkedlist_iterative(a):\n",
    "    # need to have previous, current, and next node\n",
    "    prev = Linkedlist(None)\n",
    "    curr = a.head\n",
    "    while curr:\n",
    "        next = curr.next\n",
    "        curr.next = prev\n",
    "        prev = curr\n",
    "        curr = next\n",
    "    return prev "
   ]
  },
  {
   "cell_type": "code",
   "execution_count": 6,
   "metadata": {
    "ExecuteTime": {
     "end_time": "2020-03-24T03:00:44.579655Z",
     "start_time": "2020-03-24T03:00:44.542174Z"
    }
   },
   "outputs": [],
   "source": [
    "def reverse_Linkedlist_recursion(a):\n",
    "    if a == None or a.next == None:\n",
    "        return a\n",
    "    # new_a will be a linked list using head as last element\n",
    "    new_a = reverse_Linkedlist_recursion(a.next)\n",
    "    # need to change the arrow direction\n",
    "    a.next.next = a\n",
    "    a.next = None\n",
    "    return new_a"
   ]
  },
  {
   "cell_type": "markdown",
   "metadata": {},
   "source": [
    "Similar questions: leetcode 92"
   ]
  },
  {
   "cell_type": "markdown",
   "metadata": {},
   "source": [
    "##### Discussion"
   ]
  },
  {
   "cell_type": "markdown",
   "metadata": {},
   "source": [
    "Q1: How to find the middle node of a linked list?<br>\n",
    "We need two points: one fast run two steps every time, one slow run one step every time; when fast pointer achieve the end, the slow point will be in the middle<br>\n",
    "Note: when we have even number of elements, we need to return the first one of the middile elments, since that will help us to remember the tail element of the left half of list, which should be helpful when you want to add elements."
   ]
  },
  {
   "cell_type": "code",
   "execution_count": 8,
   "metadata": {
    "ExecuteTime": {
     "end_time": "2020-03-25T03:07:29.716722Z",
     "start_time": "2020-03-25T03:07:29.683285Z"
    }
   },
   "outputs": [],
   "source": [
    "def find_middle(a):\n",
    "    if a.head == None:\n",
    "        return None\n",
    "    slow = a.head\n",
    "    fast = a.head\n",
    "    while fast.next != None and fast.next.next != None:\n",
    "        slow = slow.next\n",
    "        fast = fast.next.next\n",
    "    return slow"
   ]
  },
  {
   "cell_type": "markdown",
   "metadata": {},
   "source": [
    "Q2: How to determine if a linkedlist has circle?"
   ]
  },
  {
   "cell_type": "code",
   "execution_count": 1,
   "metadata": {
    "ExecuteTime": {
     "end_time": "2020-03-30T18:25:26.445724Z",
     "start_time": "2020-03-30T18:25:26.428459Z"
    }
   },
   "outputs": [],
   "source": [
    "def determin_circle(a):\n",
    "    if a.head == None:\n",
    "        return False\n",
    "    slow = a.head\n",
    "    fast = a.head\n",
    "    while fast.next != None and fast.next.next != None:\n",
    "        slow = slow.next\n",
    "        fast = fast.next.next\n",
    "        if slow == fast:\n",
    "            return True\n",
    "    return False"
   ]
  },
  {
   "cell_type": "markdown",
   "metadata": {},
   "source": [
    "Follow-up question: how to find the start node of the circle? (Not a good question)"
   ]
  },
  {
   "cell_type": "markdown",
   "metadata": {},
   "source": [
    "Step1: find the node that fast and slow pointers meet.<br>\n",
    "Step2: move the fast pointer back to the initial start point, and run again. When the slow and fast pointer meet again, then it is the start point of the loop."
   ]
  },
  {
   "cell_type": "markdown",
   "metadata": {},
   "source": [
    "Q3: How to insert a node in a sorted linked list(simple)?"
   ]
  },
  {
   "cell_type": "markdown",
   "metadata": {},
   "source": [
    "**Be careful about the two coner cases: head and tail **"
   ]
  },
  {
   "cell_type": "code",
   "execution_count": 2,
   "metadata": {
    "ExecuteTime": {
     "end_time": "2020-03-30T18:44:48.147543Z",
     "start_time": "2020-03-30T18:44:48.132478Z"
    }
   },
   "outputs": [],
   "source": [
    "def insert_node(a,insert_n):\n",
    "    # consider the head\n",
    "    if a.head.value > insert_n.value:\n",
    "        inser_n.next = a\n",
    "        return insert_n\n",
    "    curr = a.head\n",
    "    while curr and curr.next:\n",
    "        if curr.value < insert_n.value and curr.next.value >= insert_n.value:\n",
    "            next_n = curr.next\n",
    "            curr.next = insert_n\n",
    "            curr.next.next = next_n\n",
    "            break\n",
    "        curr = curr.next\n",
    "    # consider the tail\n",
    "    if curr.value < insert_n.value:\n",
    "        curr.next = insert_n\n",
    "    return a"
   ]
  },
  {
   "cell_type": "markdown",
   "metadata": {},
   "source": [
    "Q4: How to merge two sorted linked list into one long sorted linked list?"
   ]
  },
  {
   "cell_type": "markdown",
   "metadata": {},
   "source": [
    "**Why** or **When** should we use a dummy node?<br>\n",
    "When we want to append new element to an initially empty LinkedList, we do not have an initial head node. In this case, we can make new dummy node to act as a head node."
   ]
  },
  {
   "cell_type": "code",
   "execution_count": 3,
   "metadata": {
    "ExecuteTime": {
     "end_time": "2020-03-30T19:09:40.783325Z",
     "start_time": "2020-03-30T19:09:40.776957Z"
    }
   },
   "outputs": [],
   "source": [
    "def mergeTwoLists(l1, l2):\n",
    "    dummy = ListNode(None)\n",
    "    out = dummy\n",
    "    while l1 and l2:\n",
    "        if l1.val < l2.val:\n",
    "            out.next = l1\n",
    "            l1 = l1.next\n",
    "            out = out.next\n",
    "        else:\n",
    "            out.next = l2\n",
    "            l2 = l2.next\n",
    "            out = out.next\n",
    "    while l2:\n",
    "        out.next = l2\n",
    "        l2 = l2.next\n",
    "        out = out.next\n",
    "    while l1:\n",
    "        out.next = l1\n",
    "        l1 = l1.next\n",
    "        out = out.next\n",
    "    # remember to return dummy.next, not dummy (since dummy is dummy.head, which is None)\n",
    "    return dummy.next"
   ]
  },
  {
   "cell_type": "markdown",
   "metadata": {},
   "source": [
    "Q5: N1--> N2--> N3--> N4 --> N5 --> N6 --> ... --> Nn --> None (convert to) (N1--> Nn) --> (N2 --> Nn-1) --> ..."
   ]
  },
  {
   "cell_type": "markdown",
   "metadata": {},
   "source": [
    "Step1: Find the middle node of the linkedList.(Q1)<br>\n",
    "Step2: Reverse the 2nd half.(Q0)<br>\n",
    "Step3: Merge two linkedList into one long linkedList(Q4)<br>"
   ]
  },
  {
   "cell_type": "markdown",
   "metadata": {},
   "source": [
    "Q6: Partition List:<br>\n",
    "Given a linked list and a target value x, partition it such that all nodes less than x are listed before the nodes larger than or equal to target value x. (keep the original relative order of the nodes in each of the two partitions)."
   ]
  },
  {
   "cell_type": "markdown",
   "metadata": {},
   "source": [
    "Input: 1--> 6 --> 3 --> 2a --> 5 --> 2b, target = 4<br>\n",
    "Output: 1 --> 3 --> 2a --> 2b --> 6 --> 5"
   ]
  },
  {
   "cell_type": "markdown",
   "metadata": {},
   "source": [
    "Step1: We initialize two dummpy head nodes.<br>\n",
    "Step2: Generate two list (small and large) <br>\n",
    "Step3: Connect two list togther. <br>"
   ]
  },
  {
   "cell_type": "code",
   "execution_count": 4,
   "metadata": {
    "ExecuteTime": {
     "end_time": "2020-03-30T20:07:02.447859Z",
     "start_time": "2020-03-30T20:07:02.423290Z"
    }
   },
   "outputs": [],
   "source": [
    "def partition(head, x):\n",
    "    dummysmall = ListNode(None)\n",
    "    currsmall = dummysmall\n",
    "    dummylarge = ListNode(None)\n",
    "    currlarge = dummylarge\n",
    "    while head:\n",
    "        if head.val < x:\n",
    "            currsmall.next = head\n",
    "            head = head.next\n",
    "            currsmall = currsmall.next\n",
    "        else:\n",
    "            currlarge.next = head\n",
    "            head = head.next\n",
    "            currlarge = currlarge.next\n",
    "    # remember to add end into list \n",
    "    currlarge.next = None\n",
    "        \n",
    "    currsmall.next = dummylarge.next\n",
    "    return dummysmall.next"
   ]
  },
  {
   "cell_type": "markdown",
   "metadata": {},
   "source": [
    "### Binary Tree & Binary Search Tree"
   ]
  },
  {
   "cell_type": "markdown",
   "metadata": {},
   "source": [
    "#### Binary Tree"
   ]
  },
  {
   "cell_type": "markdown",
   "metadata": {},
   "source": [
    "Definition: one root node, at most two children node."
   ]
  },
  {
   "cell_type": "code",
   "execution_count": 6,
   "metadata": {
    "ExecuteTime": {
     "end_time": "2020-03-31T02:10:11.838298Z",
     "start_time": "2020-03-31T02:10:11.830879Z"
    }
   },
   "outputs": [],
   "source": [
    "class TreeNode(object):\n",
    "    def __init__(self, x):\n",
    "        self.value = x\n",
    "        # TreeNode (left child and right child)\n",
    "        self.left = None\n",
    "        self.right = None"
   ]
  },
  {
   "cell_type": "markdown",
   "metadata": {},
   "source": [
    "**Application**:<br>\n",
    "social networks analysis (find the shortest link between two users)<br>\n",
    "information indexing (prefix of word)<br>\n",
    "information compression<br>"
   ]
  },
  {
   "cell_type": "markdown",
   "metadata": {},
   "source": [
    "##### Basic Knowledge 1: Tree Traverse"
   ]
  },
  {
   "cell_type": "markdown",
   "metadata": {},
   "source": [
    "(1) pre-order: <br>\n",
    "first root, then left, then right<br>\n",
    "always consider current node as pre (the front most node) to deal with <br>"
   ]
  },
  {
   "cell_type": "code",
   "execution_count": 1,
   "metadata": {
    "ExecuteTime": {
     "end_time": "2020-03-31T03:25:02.355309Z",
     "start_time": "2020-03-31T03:25:02.349743Z"
    }
   },
   "outputs": [],
   "source": [
    "def pre_order(root):\n",
    "    # base case: the None node below leaf node, not leaf node\n",
    "    if root == None:\n",
    "        return \n",
    "    print(root.value)\n",
    "    pre_order(root.left)\n",
    "    pre_order(root.right)"
   ]
  },
  {
   "cell_type": "code",
   "execution_count": 5,
   "metadata": {
    "ExecuteTime": {
     "end_time": "2020-03-31T15:51:55.506756Z",
     "start_time": "2020-03-31T15:51:55.475734Z"
    }
   },
   "outputs": [],
   "source": [
    "def pre_order_iterative(root):\n",
    "    out, stack = [], [root]\n",
    "    while stack:\n",
    "        root = stack.pop()\n",
    "        if root:\n",
    "            out.append(root.value)\n",
    "            stack.append(root.right)\n",
    "            stack.append(root.left)\n",
    "    return out"
   ]
  },
  {
   "cell_type": "markdown",
   "metadata": {},
   "source": [
    "(2) in-oder:<br>\n",
    "first left, then root, then right"
   ]
  },
  {
   "cell_type": "code",
   "execution_count": 2,
   "metadata": {
    "ExecuteTime": {
     "end_time": "2020-03-31T03:27:00.448790Z",
     "start_time": "2020-03-31T03:27:00.442498Z"
    }
   },
   "outputs": [],
   "source": [
    "def in_order(root):\n",
    "    if root == None:\n",
    "        return \n",
    "    in_order(root.left)\n",
    "    print(root.value)\n",
    "    in_order(root.right)"
   ]
  },
  {
   "cell_type": "markdown",
   "metadata": {},
   "source": [
    "(3) post-order:<br>\n",
    "first left, then right, then root"
   ]
  },
  {
   "cell_type": "code",
   "execution_count": 3,
   "metadata": {
    "ExecuteTime": {
     "end_time": "2020-03-31T03:32:33.040498Z",
     "start_time": "2020-03-31T03:32:33.034712Z"
    }
   },
   "outputs": [],
   "source": [
    "def post_order(root):\n",
    "    if root == None:\n",
    "        return\n",
    "    post_order(root.left)\n",
    "    post_order(root.right)\n",
    "    print(root.value)"
   ]
  },
  {
   "cell_type": "markdown",
   "metadata": {},
   "source": [
    "**Trick: base case usually referes to the null ChildNode below the leaf node**"
   ]
  },
  {
   "cell_type": "markdown",
   "metadata": {},
   "source": [
    "##### Terminology"
   ]
  },
  {
   "cell_type": "markdown",
   "metadata": {},
   "source": [
    "1. **Balanced Binary Tree**: is commonly defined as a binary tree in which the depth of the left and right subtress of every nodes differ by 1 or less <br>\n",
    "*Balanced binary tree*:<br>\n",
    " &emsp;10<br>\n",
    "&emsp;/&ensp;\\<br>\n",
    "&ensp;5&ensp;None<br>\n",
    "*Unbalnaced*:<br>\n",
    " &emsp;10<br>\n",
    "&emsp;/&ensp;\\<br>\n",
    "&ensp;5&ensp;None<br>\n",
    "/\\<br>\n",
    "2 None\n",
    "2. **Complete Binary Tree**: is a binary tree in which every level, except possibly the last, is completely filled, and all nodes are as far left as possible.\n",
    "*Complete binary tree*:<br>\n",
    " &emsp;10<br>\n",
    "&emsp;/&ensp;\\<br>\n",
    "&ensp;5&ensp;15<br>\n",
    "/\\&emsp;&ensp;/\\<br>\n",
    "2 7 None None<br>\n",
    "*Two Non-complete binary tree*:<br>\n",
    " &emsp;10<br>\n",
    "&emsp;/&ensp;\\<br>\n",
    "&ensp;5&ensp;15<br>\n",
    "/\\&emsp;&ensp;/\\<br>\n",
    "2 7 None 20<br>\n",
    " &emsp;10<br>\n",
    "&emsp;/&ensp;\\<br>\n",
    "&ensp;5&ensp;None<br>\n",
    "/\\<br>\n",
    "2 None\n",
    "3. **Binary Search Tree**:for every single node in the tree, the values in its left subtree are all smaller than its value, and the values in its right subtree are all larger than its value. (no repetative node, if has repetative nodes, should includes a counter)"
   ]
  },
  {
   "cell_type": "markdown",
   "metadata": {
    "ExecuteTime": {
     "end_time": "2020-03-31T03:58:04.699979Z",
     "start_time": "2020-03-31T03:58:04.686476Z"
    }
   },
   "source": [
    "<img src=\"Binary_tree_recursion.png\">"
   ]
  },
  {
   "cell_type": "markdown",
   "metadata": {},
   "source": [
    "##### Basic Knowledge 2: Get Height\n",
    "Time complexity: O(N); Space complexity: O(N)"
   ]
  },
  {
   "cell_type": "code",
   "execution_count": 8,
   "metadata": {
    "ExecuteTime": {
     "end_time": "2020-03-31T16:00:44.726910Z",
     "start_time": "2020-03-31T16:00:44.719806Z"
    }
   },
   "outputs": [],
   "source": [
    "def get_height(root):\n",
    "    if root == None:\n",
    "        return 0\n",
    "    return max(get_height(root.left), get_height(root.right)) + 1"
   ]
  },
  {
   "cell_type": "markdown",
   "metadata": {},
   "source": [
    "Q1: How to determine whether a binary tree is a balanced binary tree?<br>\n",
    "Time complexity: O(NlogN)"
   ]
  },
  {
   "cell_type": "code",
   "execution_count": 11,
   "metadata": {
    "ExecuteTime": {
     "end_time": "2020-03-31T18:29:41.480296Z",
     "start_time": "2020-03-31T18:29:41.464946Z"
    }
   },
   "outputs": [],
   "source": [
    "def determine_balance_binary_tree(root):\n",
    "    if root == None:\n",
    "        return True\n",
    "    if abs(get_height(root.left) - get_height(root.right)) > 1:\n",
    "        return False\n",
    "    else:\n",
    "        return determine_balance_binary_tree(root.left) and determine_balance_binary_tree(root.right)"
   ]
  },
  {
   "cell_type": "markdown",
   "metadata": {
    "ExecuteTime": {
     "end_time": "2020-03-31T18:35:07.133948Z",
     "start_time": "2020-03-31T18:35:07.125100Z"
    }
   },
   "source": [
    "<img src=\"Determine_balance_binary_tree.png\">"
   ]
  },
  {
   "cell_type": "markdown",
   "metadata": {},
   "source": [
    "Q2: How to judge whether a binary tree is symmetric?<br>\n",
    "Time complexity: O(N) since N/2 comparison will be conducted <br>\n",
    "Space complexity (related the height of tree) : O(N) if the tree is balanced --> O(logN) "
   ]
  },
  {
   "cell_type": "code",
   "execution_count": 16,
   "metadata": {
    "ExecuteTime": {
     "end_time": "2020-03-31T19:11:49.255672Z",
     "start_time": "2020-03-31T19:11:49.250831Z"
    }
   },
   "outputs": [],
   "source": [
    "def determine_symmetric_binary_tree(root):\n",
    "    if root == None:\n",
    "        return True\n",
    "    \n",
    "    return Is_symmetric(root.left, root.right)\n",
    "    \n",
    "    def Is_symmetric(left, right):\n",
    "        if left == None and right == None:\n",
    "            return True\n",
    "        elif left == None or right == None:\n",
    "            return False\n",
    "        elif left.value != right.value:\n",
    "            return False\n",
    "        return Is_symmetric(left.left, right.right) and Is_symmetric(left.right, right.left)"
   ]
  },
  {
   "cell_type": "markdown",
   "metadata": {},
   "source": [
    "Q3: Let's assume if we tweak the left child with right child of an arbitrary node in a binary tree, then the \"structure\" of the tree are not changed. Then how can we determine whether two binary trees' structures are identical.<br>\n",
    "There are two possible situations:<br>\n",
    "1. two trees are same (l.left = r.left; l.right = r.right)\n",
    "2. two trees are symmetric (l.right = r.left; l.right = r.left)\n",
    "\n",
    "This is a quadral tree: 1, 4, 16, 64, 256 ... nodes in each level.<br>\n",
    "If it's a balanced binary tree:<br>\n",
    "**Time complexity** is only determined by the last level which has **4^log(N)** nodes = **O(N^2)**<br>\n",
    "**Space complexity** is only determined by the recursion levels --> log(N) <br>\n",
    "It it's not a balanced binary tree: becomes a one tree since three of them have been prunned <br> \n",
    "**Time complexity: O(N)** <br>\n",
    "**Space complexity: O(N)** <br>"
   ]
  },
  {
   "cell_type": "code",
   "execution_count": 17,
   "metadata": {
    "ExecuteTime": {
     "end_time": "2020-03-31T19:42:10.317829Z",
     "start_time": "2020-03-31T19:42:10.309134Z"
    }
   },
   "outputs": [],
   "source": [
    "def determine_identical_tree(root):\n",
    "    if root == None:\n",
    "        return \n",
    "    return isIdentical(root.left, root.right)\n",
    "\n",
    "def isIdentical(left, right):\n",
    "    if left == None and right == None:\n",
    "        return True\n",
    "    elif left == None or right == None:\n",
    "        return False\n",
    "    elif left.value != right.value:\n",
    "        return False\n",
    "    return (isIdentical(left.left, right.left) and isIdentical(left.right, right.right)) or (isIdentical(left.left, right.right) and isIdentical(left.right, right.left))"
   ]
  },
  {
   "cell_type": "markdown",
   "metadata": {},
   "source": [
    "#### Binary Search Tree"
   ]
  },
  {
   "cell_type": "markdown",
   "metadata": {},
   "source": [
    "##### Q1: How to determine a binary tree is a BST?"
   ]
  },
  {
   "cell_type": "markdown",
   "metadata": {},
   "source": [
    "**Primitive idea**: Time complexity is O(N^2) since each level is O(N) and worst case there are N level<br>\n",
    "for each node:\n",
    "1. check all its left-subtree, to determine whether they are all smaller\n",
    "2. check all its right-subtree, to determine whether they are all larger\n"
   ]
  },
  {
   "cell_type": "markdown",
   "metadata": {},
   "source": [
    "**Another idea**: consider the value range of each node<br>\n",
    "Time complexity: O(N)"
   ]
  },
  {
   "cell_type": "code",
   "execution_count": 20,
   "metadata": {
    "ExecuteTime": {
     "end_time": "2020-03-31T21:01:06.314273Z",
     "start_time": "2020-03-31T21:01:06.303848Z"
    }
   },
   "outputs": [],
   "source": [
    "def isBSTHelper(root, min_bound, max_bound):\n",
    "    if root == None:\n",
    "        return True\n",
    "    if root.value > max_bound or root.value < min_bound:\n",
    "        return False\n",
    "    return isBSTHelper(root.left, min_bound, root.value) and isBSTHelper(root.right, root.value, max_bound)"
   ]
  },
  {
   "cell_type": "code",
   "execution_count": 21,
   "metadata": {
    "ExecuteTime": {
     "end_time": "2020-03-31T21:01:07.510251Z",
     "start_time": "2020-03-31T21:01:07.506137Z"
    }
   },
   "outputs": [],
   "source": [
    "def isBST(root):\n",
    "    min_bound = float('-inf')\n",
    "    max_bound = float('inf')\n",
    "    return isBSTHelper(root, min_bound, max_bound)"
   ]
  },
  {
   "cell_type": "markdown",
   "metadata": {},
   "source": [
    "##### Q2: Print BST keys in the given range\n",
    "Given two values k1 and k2 (where k1 < k2) and a root pointer to a Binary Search Tree. Print all the keys of tree in range k1 to k2. i.e. print all x such that k1 <= x<= k2 and x is a key of given BST. Print all the keys in an increasing order.<br>\n",
    "Time complexity: O(N)"
   ]
  },
  {
   "cell_type": "markdown",
   "metadata": {},
   "source": [
    "**BST property**:For BST, if we print out all elments in an in-order sequence, then they satisfy that they are printed in an increasing order."
   ]
  },
  {
   "cell_type": "code",
   "execution_count": 22,
   "metadata": {
    "ExecuteTime": {
     "end_time": "2020-03-31T21:28:54.737152Z",
     "start_time": "2020-03-31T21:28:54.673756Z"
    }
   },
   "outputs": [],
   "source": [
    "def print_BST_keys(root, k1, k2):\n",
    "    # use in-order to print node value in increasing order\n",
    "    if root == None:\n",
    "        return\n",
    "    if root.value > k1:\n",
    "        print_BST_keys(root.left, k1, k2)\n",
    "    if root.value >= k1 and root.value <= k2:\n",
    "        print(root.value)\n",
    "    if root.values < k2:\n",
    "        print_BST_keys(root.right, k1, k2)"
   ]
  },
  {
   "cell_type": "markdown",
   "metadata": {},
   "source": [
    "### Heap & Graph Search Algorithms"
   ]
  },
  {
   "cell_type": "markdown",
   "metadata": {},
   "source": [
    "Heap --> priority queue; logically it's a tree, but physically it's a array<br>\n",
    "Heap: is an unsorted array but have special rules to follow:\n",
    "1. Arbitrary node is smaller all its later node, and the minimum element is in the root\n",
    "2. It's a complete tree\n",
    "3. Root is the minimum element is the MAX Heap; else, is the MIN Heap\n",
    "4. Index of left child = index of parent * 2 + 1 (since it's a complete binary tree, we can get the index based on this rule)\n",
    "5. Index of right child = index of parent * 2 + 2\n",
    "6. Unsorted but follow rules above<br>\n",
    "\n",
    "Basic functions:\n",
    "1. insert: insert a new element. Time complexity: O(logN) --> insert new element at the end, percolate new element with its parent based on which element is smaller or larger --> the height of complete tree is logN\n",
    "2. update: update new element to satisfy the property of heap. Time complexity: O(logN)\n",
    "3. get/top: get current root of heap. Time complexity: O(1)\n",
    "3. pop: delete current root of heap. Time comlexity:O(logN) --> move the end element into root, and then update the heap\n",
    "4. heapify: change a unsorted array into a heap. Time complexity: O(N) --> recursive method"
   ]
  },
  {
   "cell_type": "markdown",
   "metadata": {},
   "source": [
    "#### Classic Questions:"
   ]
  },
  {
   "cell_type": "markdown",
   "metadata": {},
   "source": [
    "##### Q1: Find smallest k elements from an unsorted array of size n"
   ]
  },
  {
   "cell_type": "markdown",
   "metadata": {},
   "source": [
    "How to make assumptions?\n",
    "1. What is the relationship between k and n ?  --> If k is close to n, i.e k=6,n=7, just sort array and return first k elements.\n"
   ]
  },
  {
   "cell_type": "markdown",
   "metadata": {},
   "source": [
    "**Solution1: <br>**\n",
    "Sort it and return the first k elemnt --> O(NlogN)<br>\n",
    "**Solution2: heapify**<br>\n",
    "Step1: How to build a min-heap? --> heapify it O(N) <br>\n",
    "Step2: Keep popping out k elements --> O(KlogN) <br>\n",
    "Total time = O(N+KlogN)<br>\n",
    "If N is very large --> Total time = O(N), which is more efficient that sorting<br>\n",
    "**Solution3: max-heap<br>** \n",
    "Step1:use a max-heap of size k  --> O(K)<br>\n",
    "Step2: iterate from the (k+1)-th to the n-th element, and for the current element x --> O((N-K)logK):\n",
    "Case1: if x < max-heap.top() --> max-heap.pop(), max-heap.insert(x)<br>\n",
    "Case2: else, do nothing<br>\n",
    "Total = O(K) + O((N-K)logK)\n",
    "**Compare the time complexity of different solutions**:\n",
    "Case1: K <<<< N: solution2 O(cN) & solution3 O(NlogK) --> conclusion: it depends the relation between constant c and logK<br>\n",
    "Case2: K ~ N: solution2 O(NlogN) & solution3 O(NlogN since K=2/N is the worst case) --> conclusion: it depends<br>\n",
    "*Finally, we can see that solution2 and solution3 can be comparable, but it's hard to say which one is better (depending on the value of k vs n)*<br>\n",
    "**Solution4: quick partition** <br>\n",
    "Step1:Using pivot to split data into two parts<br>\n",
    "Step2: Remove one half (remove or move into solution)<br>\n",
    "Time complexity: wrost case (same as quick sort): O(N^2); average case: O(N)"
   ]
  },
  {
   "cell_type": "markdown",
   "metadata": {},
   "source": [
    "#### Graph"
   ]
  },
  {
   "cell_type": "markdown",
   "metadata": {},
   "source": [
    "Three representation:\n",
    "1. Adjacency matrix --> time complexity O(1) and space complexity O(N^2)  \n",
    "2. Adjacency list --> time complexity O(V) and space complexity O(V + E)\n",
    "3. Hash table (key=node, value=vector of successors node) --> time complexity O(1) and space complexity o(V+E)"
   ]
  },
  {
   "cell_type": "markdown",
   "metadata": {},
   "source": [
    "##### Breadth-First Search (BFS-1)"
   ]
  },
  {
   "cell_type": "markdown",
   "metadata": {},
   "source": [
    "**First level: objective in BFS** --> first go through all elements in the level within distance, then 2, then ...<br>\n",
    "**Second level: data structure in BFS** --> queue (first in first out)<br>\n",
    "**Third level: operation**--> expand a parent node and generate neighbor node<br>\n",
    "**Forth level: termination** --> when queue is empty, stop"
   ]
  },
  {
   "cell_type": "markdown",
   "metadata": {},
   "source": [
    "Q1: Print a binary tree level by level"
   ]
  },
  {
   "cell_type": "code",
   "execution_count": 23,
   "metadata": {
    "ExecuteTime": {
     "end_time": "2020-04-01T03:06:32.610319Z",
     "start_time": "2020-04-01T03:06:32.579716Z"
    }
   },
   "outputs": [],
   "source": [
    "from queue import Queue "
   ]
  },
  {
   "cell_type": "code",
   "execution_count": 33,
   "metadata": {
    "ExecuteTime": {
     "end_time": "2020-04-01T03:13:10.350844Z",
     "start_time": "2020-04-01T03:13:10.340229Z"
    }
   },
   "outputs": [],
   "source": [
    "def print_tree_level(root):\n",
    "    if root == None:\n",
    "        return \n",
    "    q = Queue()\n",
    "    q.put(root)\n",
    "    while q.empty() != False:\n",
    "        size = queue.qsize() # we need to get the size of this level\n",
    "        for i in range(size):\n",
    "            n = q.get()\n",
    "            if n.left != None:\n",
    "                q.put(n.left)\n",
    "            if n.right != None:\n",
    "                q.put(n.right)\n",
    "            print(n.value)"
   ]
  },
  {
   "cell_type": "markdown",
   "metadata": {},
   "source": [
    "Q2: How to determine it's a bipartite?<br>\n",
    "Bipartite: whether a graph's node can be divided into two groups, such that the nodes in each group do not have direct edges between the nodes that belong to the same group.<br>\n",
    "Even number circel is always bipartite; odd circle is always not bipartite<br>\n",
    "Solution:<br>\n",
    "For one node, assign it as U, so all its neighbor nodes are belong to V; <br>\n",
    "Go to one of its neighbor node, check the neighbor nodes os its and assign them as U, if conflict happens, not bipartite; else, continue; <br>\n",
    "Continue this one level as U, one level as V untill no nodes left<br>"
   ]
  },
  {
   "cell_type": "markdown",
   "metadata": {},
   "source": [
    "Q3: Determine whether a binary tree is a complete binary tree<br>\n",
    "Solution: <br>\n",
    "After detecting the first node that misses one child, then check whether all following nodes expanded to see whether they have any node generated, if any, then false"
   ]
  },
  {
   "cell_type": "markdown",
   "metadata": {},
   "source": [
    "**Discussion**:\n",
    "1. When should we consider to sue BFS1 to solve a class of questions?<br>\n",
    "    When we deal with the tree-related problem and in the meantime we need to **address the relationship one the same level.*\n",
    "2. BFS 1 is not the right algorithm to find the shortest parth in an arbitrary graph."
   ]
  },
  {
   "cell_type": "markdown",
   "metadata": {
    "ExecuteTime": {
     "end_time": "2020-04-01T03:32:50.742653Z",
     "start_time": "2020-04-01T03:32:50.724961Z"
    }
   },
   "source": [
    "##### Best First Search (BFS-2)"
   ]
  },
  {
   "cell_type": "markdown",
   "metadata": {},
   "source": [
    "Find the shortest path between two nodes in an arbitrary graph"
   ]
  },
  {
   "cell_type": "markdown",
   "metadata": {},
   "source": [
    "Classific algorithm: Dijkstra's Algorithm (runtime efficiency improvement)"
   ]
  },
  {
   "cell_type": "markdown",
   "metadata": {},
   "source": [
    "**Usages:** Find the shortest path cost fromm a single node (source code) to any other nodes in that graph ( the shortest path from point to plane)<br>\n",
    "**Examples:** The shortest path from Beiging to any other city in China<br>\n",
    "**Data Structure:** priority_queue(MIN_HEAP) --> Which is smaller, which is generated first\n",
    "**Idea:**<br>\n",
    "1. Initial state(start node)\n",
    "2. Node expansion/Generation rule\n",
    "3. Termination condition: p_q becomes empty<br>\n",
    "4. De-duplication<br>\n",
    "\n",
    "**Properties:**<br>\n",
    "1. one node can be expanded once and only once\n",
    "2. one node can be generated more than once --> cost can be reduced over time)\n",
    "3. all the cost of the nodes that are expanded are monotonically non-decreasing --> monotonically increasing or no-changing)\n",
    "4. time complexity, for a graph with n node and the connectivity of the node is O(NlogN)\n",
    "5. when a node is popped out for **expansion(not generation)**, its value is fixed which is equal to the shortest distance from the start node."
   ]
  },
  {
   "cell_type": "markdown",
   "metadata": {},
   "source": [
    "Q: Given a matrix of size N ** N *, and for each row the elements are sorted in an ascending order, and for each column the elements are also sorted in ascending order. How to find the k-th smallest element in it?<br>\n",
    "eg: <br>\n",
    "1 2 3 4 5<br>\n",
    "2 3 4 5 6<br>\n",
    "3 4 5 6 7<br>\n",
    "4 5 6 7 8<br>\n",
    "5 6 7 8 9<br>"
   ]
  },
  {
   "cell_type": "code",
   "execution_count": 17,
   "metadata": {
    "ExecuteTime": {
     "end_time": "2020-04-02T22:24:16.160709Z",
     "start_time": "2020-04-02T22:24:16.154796Z"
    }
   },
   "outputs": [],
   "source": [
    "import heapq\n",
    "def kthSmallest(matrix, k):\n",
    "    heap = [(matrix[0][0], 0, 0)]\n",
    "    # convert heap into min_heap (which is the priority queue)\n",
    "    heapq.heapify(heap)\n",
    "    # use out_matrix to save the elements that already see\n",
    "    out_matrix = [[False for j in range(len(matrix[0]))] for i in range(len(matrix))]\n",
    "    while k:\n",
    "        current, i, j = heapq.heappop(heap)\n",
    "        k -= 1\n",
    "        if i + 1 <= len(matrix) -1 and out_matrix[i+1][j] == False:\n",
    "            heapq.heappush(heap, (matrix[i+1][j], i + 1, j))\n",
    "            out_matrix[i+1][j] = True\n",
    "        if j + 1 <= len(matrix) - 1 and out_matrix[i][j+1] == False:\n",
    "            heapq.heappush(heap, (matrix[i][j + 1], i, j + 1))\n",
    "            out_matrix[i][j+1] = True\n",
    "    return current"
   ]
  },
  {
   "cell_type": "markdown",
   "metadata": {},
   "source": [
    "##### Depth-First Search (DFS)"
   ]
  },
  {
   "cell_type": "markdown",
   "metadata": {},
   "source": [
    "**Discussion**\n",
    "1. DFS can only be implemented by using recursion way?<br>\n",
    "    No, It can be implemented by using either iterative way(explicitly maintain a stack), or in a recursive way. It is easier to use recuisive way. \n"
   ]
  },
  {
   "cell_type": "markdown",
   "metadata": {
    "ExecuteTime": {
     "end_time": "2020-04-07T01:37:36.937919Z",
     "start_time": "2020-04-07T01:37:36.900687Z"
    }
   },
   "source": [
    "**DFS method**:\n",
    "1. What does it store on each level? (Know how many levels before we start to solve the problem)\n",
    "2. How many different states should we try to put on this level? ( Know how many states at each level needed to try)"
   ]
  },
  {
   "cell_type": "markdown",
   "metadata": {},
   "source": [
    "Q1: Print all subsets of a set S = {\"a\", \"b\", \"c\"}"
   ]
  },
  {
   "cell_type": "markdown",
   "metadata": {},
   "source": [
    "1. What does it store on each level? <br>\n",
    "    For each level, it makes the decision on whether to put this element into the final set or not. THus, we have n elemnts, means we have n layers.\n",
    "2. How many different states should we try to put on this level? <br>\n",
    "    Two, each state (case) considers either select or not select "
   ]
  },
  {
   "cell_type": "code",
   "execution_count": 10,
   "metadata": {
    "ExecuteTime": {
     "end_time": "2020-04-07T02:02:20.519921Z",
     "start_time": "2020-04-07T02:02:20.515386Z"
    }
   },
   "outputs": [],
   "source": [
    "def find_subset(input_str, index, solution):\n",
    "    if index == len(input_str):\n",
    "        if len(solution) == 0:\n",
    "            print(\"empty set\")\n",
    "        else:\n",
    "            print(solution)\n",
    "        return \n",
    "    # First case: Add string at index into solution\n",
    "    solution.append(input_str[index])\n",
    "    find_subset(input_str, index+1, solution)\n",
    "    solution.pop() # remember to remove the element you just added \n",
    "    # Second case: Add nothing\n",
    "    find_subset(input_str, index+1, solution)"
   ]
  },
  {
   "cell_type": "code",
   "execution_count": 11,
   "metadata": {
    "ExecuteTime": {
     "end_time": "2020-04-07T02:02:20.990451Z",
     "start_time": "2020-04-07T02:02:20.981734Z"
    }
   },
   "outputs": [
    {
     "name": "stdout",
     "output_type": "stream",
     "text": [
      "['a', 'b', 'c']\n",
      "['a', 'b']\n",
      "['a', 'c']\n",
      "['a']\n",
      "['b', 'c']\n",
      "['b']\n",
      "['c']\n",
      "empty set\n"
     ]
    }
   ],
   "source": [
    "input_str = [\"a\", \"b\", \"c\"]\n",
    "find_subset(input_str, 0, [])"
   ]
  },
  {
   "cell_type": "markdown",
   "metadata": {},
   "source": [
    "Q2: ()()() find all valid permutation using the parenthesis provided.\n",
    "1. What does it store on each level? <br>\n",
    "Six levels, each level represents a position in which we could place a either ( or ).\n",
    "2. How many different states should we try to put on this level? <br>\n",
    "At most, Two, but sometimes just can add ( or )<br>"
   ]
  },
  {
   "cell_type": "markdown",
   "metadata": {
    "ExecuteTime": {
     "end_time": "2020-04-07T02:11:24.048772Z",
     "start_time": "2020-04-07T02:11:24.016146Z"
    }
   },
   "source": [
    "**Restrictions:** Need to check before adding parenthesis\n",
    "1. When could we place a left parenthesis (?<br>\n",
    "If only there are stil ( can be added\n",
    "2. When could we place a right parenthesis )? <br>\n",
    "If only the number of ( added so far is larger than the number of ) added so far"
   ]
  },
  {
   "cell_type": "code",
   "execution_count": 31,
   "metadata": {
    "ExecuteTime": {
     "end_time": "2020-04-07T02:26:05.944445Z",
     "start_time": "2020-04-07T02:26:05.923182Z"
    }
   },
   "outputs": [],
   "source": [
    "def valid_permutations(number, left, right, solution):\n",
    "    if left + right == number * 2:\n",
    "        if len(solution) != 0:\n",
    "            print(\"\".join(solution))\n",
    "        return \n",
    "    if number > left:\n",
    "        solution.append(\"(\")\n",
    "        valid_permutations(number, left+1, right, solution)\n",
    "        solution.pop()\n",
    "    if left > right:\n",
    "        solution.append(\")\")\n",
    "        valid_permutations(number, left, right+1, solution)\n",
    "        solution.pop()\n",
    "        "
   ]
  },
  {
   "cell_type": "code",
   "execution_count": 32,
   "metadata": {
    "ExecuteTime": {
     "end_time": "2020-04-07T02:26:06.439513Z",
     "start_time": "2020-04-07T02:26:06.421259Z"
    }
   },
   "outputs": [
    {
     "name": "stdout",
     "output_type": "stream",
     "text": [
      "((()))\n",
      "(()())\n",
      "(())()\n",
      "()(())\n",
      "()()()\n"
     ]
    }
   ],
   "source": [
    "input_p = [\"(\", \"(\", \"(\", \")\", \")\", \")\"]\n",
    "number = len(input_p) / 2\n",
    "left = 0 \n",
    "right = 0 \n",
    "solution = []\n",
    "valid_permutations(number, left, right, solution)"
   ]
  },
  {
   "cell_type": "markdown",
   "metadata": {},
   "source": [
    "Q3: Print all combinations of coins that can sum up to total value k."
   ]
  },
  {
   "cell_type": "markdown",
   "metadata": {},
   "source": [
    "1. What does it store on each level? <br>\n",
    "Four layers, each level represents one type of coin.\n",
    "2. How many different states should we try to put on this level? <br>\n",
    "Dynamically changing value<br>"
   ]
  },
  {
   "cell_type": "code",
   "execution_count": 51,
   "metadata": {
    "ExecuteTime": {
     "end_time": "2020-04-07T03:04:35.389841Z",
     "start_time": "2020-04-07T03:04:35.384800Z"
    }
   },
   "outputs": [],
   "source": [
    "def find_coins(k, input_coins, index, solutions):\n",
    "    if index == len(input_coins) - 1:\n",
    "        solutions[index] = k\n",
    "        print(solutions)\n",
    "        return \n",
    "    for i in range(k//input_coins[index] + 1):\n",
    "        solutions[index] = i\n",
    "        find_coins(k - input_coins[index] * i, input_coins, index+1, solutions)\n",
    "        "
   ]
  },
  {
   "cell_type": "code",
   "execution_count": 53,
   "metadata": {
    "ExecuteTime": {
     "end_time": "2020-04-07T03:04:42.631313Z",
     "start_time": "2020-04-07T03:04:42.607260Z"
    }
   },
   "outputs": [
    {
     "name": "stdout",
     "output_type": "stream",
     "text": [
      "[0, 0, 0, 99]\n",
      "[0, 0, 1, 94]\n",
      "[0, 0, 2, 89]\n",
      "[0, 0, 3, 84]\n",
      "[0, 0, 4, 79]\n",
      "[0, 0, 5, 74]\n",
      "[0, 0, 6, 69]\n",
      "[0, 0, 7, 64]\n",
      "[0, 0, 8, 59]\n",
      "[0, 0, 9, 54]\n",
      "[0, 0, 10, 49]\n",
      "[0, 0, 11, 44]\n",
      "[0, 0, 12, 39]\n",
      "[0, 0, 13, 34]\n",
      "[0, 0, 14, 29]\n",
      "[0, 0, 15, 24]\n",
      "[0, 0, 16, 19]\n",
      "[0, 0, 17, 14]\n",
      "[0, 0, 18, 9]\n",
      "[0, 0, 19, 4]\n",
      "[0, 1, 0, 89]\n",
      "[0, 1, 1, 84]\n",
      "[0, 1, 2, 79]\n",
      "[0, 1, 3, 74]\n",
      "[0, 1, 4, 69]\n",
      "[0, 1, 5, 64]\n",
      "[0, 1, 6, 59]\n",
      "[0, 1, 7, 54]\n",
      "[0, 1, 8, 49]\n",
      "[0, 1, 9, 44]\n",
      "[0, 1, 10, 39]\n",
      "[0, 1, 11, 34]\n",
      "[0, 1, 12, 29]\n",
      "[0, 1, 13, 24]\n",
      "[0, 1, 14, 19]\n",
      "[0, 1, 15, 14]\n",
      "[0, 1, 16, 9]\n",
      "[0, 1, 17, 4]\n",
      "[0, 2, 0, 79]\n",
      "[0, 2, 1, 74]\n",
      "[0, 2, 2, 69]\n",
      "[0, 2, 3, 64]\n",
      "[0, 2, 4, 59]\n",
      "[0, 2, 5, 54]\n",
      "[0, 2, 6, 49]\n",
      "[0, 2, 7, 44]\n",
      "[0, 2, 8, 39]\n",
      "[0, 2, 9, 34]\n",
      "[0, 2, 10, 29]\n",
      "[0, 2, 11, 24]\n",
      "[0, 2, 12, 19]\n",
      "[0, 2, 13, 14]\n",
      "[0, 2, 14, 9]\n",
      "[0, 2, 15, 4]\n",
      "[0, 3, 0, 69]\n",
      "[0, 3, 1, 64]\n",
      "[0, 3, 2, 59]\n",
      "[0, 3, 3, 54]\n",
      "[0, 3, 4, 49]\n",
      "[0, 3, 5, 44]\n",
      "[0, 3, 6, 39]\n",
      "[0, 3, 7, 34]\n",
      "[0, 3, 8, 29]\n",
      "[0, 3, 9, 24]\n",
      "[0, 3, 10, 19]\n",
      "[0, 3, 11, 14]\n",
      "[0, 3, 12, 9]\n",
      "[0, 3, 13, 4]\n",
      "[0, 4, 0, 59]\n",
      "[0, 4, 1, 54]\n",
      "[0, 4, 2, 49]\n",
      "[0, 4, 3, 44]\n",
      "[0, 4, 4, 39]\n",
      "[0, 4, 5, 34]\n",
      "[0, 4, 6, 29]\n",
      "[0, 4, 7, 24]\n",
      "[0, 4, 8, 19]\n",
      "[0, 4, 9, 14]\n",
      "[0, 4, 10, 9]\n",
      "[0, 4, 11, 4]\n",
      "[0, 5, 0, 49]\n",
      "[0, 5, 1, 44]\n",
      "[0, 5, 2, 39]\n",
      "[0, 5, 3, 34]\n",
      "[0, 5, 4, 29]\n",
      "[0, 5, 5, 24]\n",
      "[0, 5, 6, 19]\n",
      "[0, 5, 7, 14]\n",
      "[0, 5, 8, 9]\n",
      "[0, 5, 9, 4]\n",
      "[0, 6, 0, 39]\n",
      "[0, 6, 1, 34]\n",
      "[0, 6, 2, 29]\n",
      "[0, 6, 3, 24]\n",
      "[0, 6, 4, 19]\n",
      "[0, 6, 5, 14]\n",
      "[0, 6, 6, 9]\n",
      "[0, 6, 7, 4]\n",
      "[0, 7, 0, 29]\n",
      "[0, 7, 1, 24]\n",
      "[0, 7, 2, 19]\n",
      "[0, 7, 3, 14]\n",
      "[0, 7, 4, 9]\n",
      "[0, 7, 5, 4]\n",
      "[0, 8, 0, 19]\n",
      "[0, 8, 1, 14]\n",
      "[0, 8, 2, 9]\n",
      "[0, 8, 3, 4]\n",
      "[0, 9, 0, 9]\n",
      "[0, 9, 1, 4]\n",
      "[1, 0, 0, 74]\n",
      "[1, 0, 1, 69]\n",
      "[1, 0, 2, 64]\n",
      "[1, 0, 3, 59]\n",
      "[1, 0, 4, 54]\n",
      "[1, 0, 5, 49]\n",
      "[1, 0, 6, 44]\n",
      "[1, 0, 7, 39]\n",
      "[1, 0, 8, 34]\n",
      "[1, 0, 9, 29]\n",
      "[1, 0, 10, 24]\n",
      "[1, 0, 11, 19]\n",
      "[1, 0, 12, 14]\n",
      "[1, 0, 13, 9]\n",
      "[1, 0, 14, 4]\n",
      "[1, 1, 0, 64]\n",
      "[1, 1, 1, 59]\n",
      "[1, 1, 2, 54]\n",
      "[1, 1, 3, 49]\n",
      "[1, 1, 4, 44]\n",
      "[1, 1, 5, 39]\n",
      "[1, 1, 6, 34]\n",
      "[1, 1, 7, 29]\n",
      "[1, 1, 8, 24]\n",
      "[1, 1, 9, 19]\n",
      "[1, 1, 10, 14]\n",
      "[1, 1, 11, 9]\n",
      "[1, 1, 12, 4]\n",
      "[1, 2, 0, 54]\n",
      "[1, 2, 1, 49]\n",
      "[1, 2, 2, 44]\n",
      "[1, 2, 3, 39]\n",
      "[1, 2, 4, 34]\n",
      "[1, 2, 5, 29]\n",
      "[1, 2, 6, 24]\n",
      "[1, 2, 7, 19]\n",
      "[1, 2, 8, 14]\n",
      "[1, 2, 9, 9]\n",
      "[1, 2, 10, 4]\n",
      "[1, 3, 0, 44]\n",
      "[1, 3, 1, 39]\n",
      "[1, 3, 2, 34]\n",
      "[1, 3, 3, 29]\n",
      "[1, 3, 4, 24]\n",
      "[1, 3, 5, 19]\n",
      "[1, 3, 6, 14]\n",
      "[1, 3, 7, 9]\n",
      "[1, 3, 8, 4]\n",
      "[1, 4, 0, 34]\n",
      "[1, 4, 1, 29]\n",
      "[1, 4, 2, 24]\n",
      "[1, 4, 3, 19]\n",
      "[1, 4, 4, 14]\n",
      "[1, 4, 5, 9]\n",
      "[1, 4, 6, 4]\n",
      "[1, 5, 0, 24]\n",
      "[1, 5, 1, 19]\n",
      "[1, 5, 2, 14]\n",
      "[1, 5, 3, 9]\n",
      "[1, 5, 4, 4]\n",
      "[1, 6, 0, 14]\n",
      "[1, 6, 1, 9]\n",
      "[1, 6, 2, 4]\n",
      "[1, 7, 0, 4]\n",
      "[2, 0, 0, 49]\n",
      "[2, 0, 1, 44]\n",
      "[2, 0, 2, 39]\n",
      "[2, 0, 3, 34]\n",
      "[2, 0, 4, 29]\n",
      "[2, 0, 5, 24]\n",
      "[2, 0, 6, 19]\n",
      "[2, 0, 7, 14]\n",
      "[2, 0, 8, 9]\n",
      "[2, 0, 9, 4]\n",
      "[2, 1, 0, 39]\n",
      "[2, 1, 1, 34]\n",
      "[2, 1, 2, 29]\n",
      "[2, 1, 3, 24]\n",
      "[2, 1, 4, 19]\n",
      "[2, 1, 5, 14]\n",
      "[2, 1, 6, 9]\n",
      "[2, 1, 7, 4]\n",
      "[2, 2, 0, 29]\n",
      "[2, 2, 1, 24]\n",
      "[2, 2, 2, 19]\n",
      "[2, 2, 3, 14]\n",
      "[2, 2, 4, 9]\n",
      "[2, 2, 5, 4]\n",
      "[2, 3, 0, 19]\n",
      "[2, 3, 1, 14]\n",
      "[2, 3, 2, 9]\n",
      "[2, 3, 3, 4]\n",
      "[2, 4, 0, 9]\n",
      "[2, 4, 1, 4]\n",
      "[3, 0, 0, 24]\n",
      "[3, 0, 1, 19]\n",
      "[3, 0, 2, 14]\n",
      "[3, 0, 3, 9]\n",
      "[3, 0, 4, 4]\n",
      "[3, 1, 0, 14]\n",
      "[3, 1, 1, 9]\n",
      "[3, 1, 2, 4]\n",
      "[3, 2, 0, 4]\n"
     ]
    }
   ],
   "source": [
    "k = 99\n",
    "input_coins = [25,10,5,1]\n",
    "index = 0\n",
    "solutions = [0,0,0,0]\n",
    "find_coins(k, input_coins, index, solutions)"
   ]
  },
  {
   "cell_type": "markdown",
   "metadata": {},
   "source": [
    "Q4: Given a string with no duplicated letters, how to print out all permutations of the string"
   ]
  },
  {
   "cell_type": "markdown",
   "metadata": {},
   "source": [
    "1. What does it store on each level? <br>\n",
    "N letters means N levels\n",
    "2. How many different states should we try to put on this level? <br>\n",
    "The number of states equals to the number of not used letters"
   ]
  },
  {
   "cell_type": "code",
   "execution_count": 82,
   "metadata": {
    "ExecuteTime": {
     "end_time": "2020-04-07T03:26:20.586152Z",
     "start_time": "2020-04-07T03:26:20.572521Z"
    }
   },
   "outputs": [],
   "source": [
    "def find_permutations(input_str, index, solutions, used):\n",
    "    if index == len(input_str):\n",
    "        if len(solutions) != 0:\n",
    "            print(solutions)\n",
    "        return \n",
    "    for idx, i in enumerate(input_str):\n",
    "        if used[idx] == False:\n",
    "            # add non-used element into solution \n",
    "            solutions.append(i)\n",
    "            used[idx] = True\n",
    "            find_permutations(input_str, index+1, solutions, used)\n",
    "            solutions.pop()\n",
    "            used[idx] = False"
   ]
  },
  {
   "cell_type": "code",
   "execution_count": 86,
   "metadata": {
    "ExecuteTime": {
     "end_time": "2020-04-07T03:32:02.261798Z",
     "start_time": "2020-04-07T03:32:02.248032Z"
    }
   },
   "outputs": [],
   "source": [
    "def find_permutations_inplace(input_str, index):\n",
    "    if index == len(input_str):\n",
    "        print(input_str)\n",
    "        return \n",
    "    for i in range(index,len(input_str)):\n",
    "        # swap current letter at index with letters in positions after index\n",
    "        input_str[index], input_str[i] = input_str[i], input_str[index]\n",
    "        find_permutations_inplace(input_str, index+1)\n",
    "        # swap back\n",
    "        input_str[index], input_str[i] = input_str[i], input_str[index]"
   ]
  },
  {
   "cell_type": "code",
   "execution_count": 83,
   "metadata": {
    "ExecuteTime": {
     "end_time": "2020-04-07T03:26:21.295114Z",
     "start_time": "2020-04-07T03:26:21.276855Z"
    }
   },
   "outputs": [
    {
     "name": "stdout",
     "output_type": "stream",
     "text": [
      "['a', 'b', 'c']\n",
      "['a', 'c', 'b']\n",
      "['b', 'a', 'c']\n",
      "['b', 'c', 'a']\n",
      "['c', 'a', 'b']\n",
      "['c', 'b', 'a']\n"
     ]
    }
   ],
   "source": [
    "input_str = [\"a\", \"b\", \"c\"]\n",
    "index = 0\n",
    "solutions = []\n",
    "used = [False for i in input_str]\n",
    "find_permutations(input_str, index, solutions, used)"
   ]
  },
  {
   "cell_type": "code",
   "execution_count": 87,
   "metadata": {
    "ExecuteTime": {
     "end_time": "2020-04-07T03:32:03.892718Z",
     "start_time": "2020-04-07T03:32:03.884831Z"
    }
   },
   "outputs": [
    {
     "name": "stdout",
     "output_type": "stream",
     "text": [
      "['a', 'b', 'c']\n",
      "['a', 'c', 'b']\n",
      "['b', 'a', 'c']\n",
      "['b', 'c', 'a']\n",
      "['c', 'b', 'a']\n",
      "['c', 'a', 'b']\n"
     ]
    }
   ],
   "source": [
    "find_permutations_inplace(input_str, index)"
   ]
  },
  {
   "cell_type": "markdown",
   "metadata": {},
   "source": [
    "**Conclusion: whenever every single permutation contains all elements in the initial input, and their only difference is their order, then you should consider SWAP-SWAP.**"
   ]
  }
 ],
 "metadata": {
  "kernelspec": {
   "display_name": "Python 3",
   "language": "python",
   "name": "python3"
  },
  "language_info": {
   "codemirror_mode": {
    "name": "ipython",
    "version": 3
   },
   "file_extension": ".py",
   "mimetype": "text/x-python",
   "name": "python",
   "nbconvert_exporter": "python",
   "pygments_lexer": "ipython3",
   "version": "3.6.5"
  },
  "toc": {
   "base_numbering": 1,
   "nav_menu": {},
   "number_sections": true,
   "sideBar": true,
   "skip_h1_title": false,
   "title_cell": "Table of Contents",
   "title_sidebar": "Contents",
   "toc_cell": false,
   "toc_position": {},
   "toc_section_display": true,
   "toc_window_display": true
  },
  "varInspector": {
   "cols": {
    "lenName": 16,
    "lenType": 16,
    "lenVar": 40
   },
   "kernels_config": {
    "python": {
     "delete_cmd_postfix": "",
     "delete_cmd_prefix": "del ",
     "library": "var_list.py",
     "varRefreshCmd": "print(var_dic_list())"
    },
    "r": {
     "delete_cmd_postfix": ") ",
     "delete_cmd_prefix": "rm(",
     "library": "var_list.r",
     "varRefreshCmd": "cat(var_dic_list()) "
    }
   },
   "types_to_exclude": [
    "module",
    "function",
    "builtin_function_or_method",
    "instance",
    "_Feature"
   ],
   "window_display": false
  }
 },
 "nbformat": 4,
 "nbformat_minor": 2
}
